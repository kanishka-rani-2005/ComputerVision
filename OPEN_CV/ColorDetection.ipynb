{
 "cells": [
  {
   "cell_type": "code",
   "execution_count": 7,
   "id": "2564f171",
   "metadata": {},
   "outputs": [],
   "source": [
    "import os\n",
    "import cv2\n",
    "import numpy as np\n",
    "import pandas as pd\n",
    "from PIL import Image"
   ]
  },
  {
   "cell_type": "code",
   "execution_count": null,
   "id": "0cd729fd",
   "metadata": {},
   "outputs": [],
   "source": [
    "def getlimits(color):\n",
    "    c=np.uint8([[color]])\n",
    "    hsvC=cv2.cvtColor(c,cv2.COLOR_BGR2HSV)\n",
    "\n",
    "    ll=hsvC[0][0][0]-10,100,100\n",
    "    ul=hsvC[0][0][0]+10,255,255\n",
    "\n",
    "    ll=np.array(ll,dtype=np.uint8)\n",
    "    ul=np.array(ul,dtype=np.uint8)\n",
    "    return ll,ul\n"
   ]
  },
  {
   "cell_type": "code",
   "execution_count": null,
   "id": "efbe2600",
   "metadata": {},
   "outputs": [],
   "source": [
    "yellow=[0, 255, 255]\n",
    "cap=cv2.VideoCapture(0)\n",
    "while True:\n",
    "    ret,frame=cap.read()\n",
    "\n",
    "    hsvImage=cv2.cvtColor(frame,cv2.COLOR_BGR2HSV)\n",
    "    lowerlimit,upperlimit=getlimits(color=yellow)\n",
    "    \n",
    "    mask=cv2.inRange(hsvImage,lowerlimit,upperlimit)\n",
    "    \n",
    "    # using Pillow libray draw box around it \n",
    "    mask_=Image.fromarray(mask)\n",
    "    bbox=mask_.getbbox()\n",
    "    if bbox is not None:\n",
    "        x1,y1,x2,y2=bbox \n",
    "        frame=cv2.rectangle(frame,(x1,y1),(x2,y2),(0,255,0),3)\n",
    "    cv2.imshow('frame',frame)\n",
    "    if cv2.waitKey(1) & 0xFF==ord('q'):\n",
    "        break\n",
    "cap.release()\n",
    "cv2.destroyAllWindows()"
   ]
  }
 ],
 "metadata": {
  "kernelspec": {
   "display_name": "base",
   "language": "python",
   "name": "python3"
  },
  "language_info": {
   "codemirror_mode": {
    "name": "ipython",
    "version": 3
   },
   "file_extension": ".py",
   "mimetype": "text/x-python",
   "name": "python",
   "nbconvert_exporter": "python",
   "pygments_lexer": "ipython3",
   "version": "3.12.7"
  }
 },
 "nbformat": 4,
 "nbformat_minor": 5
}
